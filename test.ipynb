{
 "cells": [
  {
   "cell_type": "code",
   "execution_count": 4,
   "id": "9ae3edf9-be14-45f6-a8cf-c74b2a313a62",
   "metadata": {},
   "outputs": [
    {
     "data": {
      "text/plain": [
       "True"
      ]
     },
     "execution_count": 4,
     "metadata": {},
     "output_type": "execute_result"
    }
   ],
   "source": [
    "from linebot import LineBotApi, WebhookHandler\n",
    "from linebot.models import TextSendMessage   # 載入 TextSendMessage 模組\n",
    "import json\n",
    "from dotenv import load_dotenv\n",
    "import os \n",
    "\n",
    "\n",
    "load_dotenv()\n"
   ]
  },
  {
   "cell_type": "code",
   "execution_count": null,
   "id": "352de678-b1d0-412b-9814-9bc9a84e2183",
   "metadata": {},
   "outputs": [],
   "source": [
    "line_bot_api = LineBotApi(LINE_BOT_KEY)\n",
    "handler = WebhookHandler(LINE_SECRET_KEY)\n",
    "signature = request.headers['X-Line-Signature']\n",
    "handler.handle(body, signature)\n",
    "tk = json_data['events'][0]['replyToken']\n",
    "msg = json_data['events'][0]['message']['text'] + '.'"
   ]
  },
  {
   "cell_type": "code",
   "execution_count": 3,
   "id": "00be5e72-affb-42a1-8a7b-e0eb9ec0e067",
   "metadata": {},
   "outputs": [
    {
     "ename": "NameError",
     "evalue": "name 'msg' is not defined",
     "output_type": "error",
     "traceback": [
      "\u001b[0;31m---------------------------------------------------------------------------\u001b[0m",
      "\u001b[0;31mNameError\u001b[0m                                 Traceback (most recent call last)",
      "Cell \u001b[0;32mIn[3], line 1\u001b[0m\n\u001b[0;32m----> 1\u001b[0m ai_msg \u001b[38;5;241m=\u001b[39m \u001b[43mmsg\u001b[49m[:\u001b[38;5;241m1\u001b[39m]\n\u001b[1;32m      2\u001b[0m user \u001b[38;5;241m=\u001b[39m json_data[\u001b[38;5;124m\"\u001b[39m\u001b[38;5;124mevents\u001b[39m\u001b[38;5;124m\"\u001b[39m][\u001b[38;5;241m0\u001b[39m][\u001b[38;5;124m\"\u001b[39m\u001b[38;5;124msource\u001b[39m\u001b[38;5;124m\"\u001b[39m][\u001b[38;5;124m\"\u001b[39m\u001b[38;5;124muserId\u001b[39m\u001b[38;5;124m\"\u001b[39m]\n",
      "\u001b[0;31mNameError\u001b[0m: name 'msg' is not defined"
     ]
    }
   ],
   "source": [
    "ai_msg = msg[:1]\n",
    "user = json_data[\"events\"][0][\"source\"][\"userId\"]\n"
   ]
  },
  {
   "cell_type": "code",
   "execution_count": 17,
   "id": "5b4db7ea-26e6-40d2-9557-aa061ac770b8",
   "metadata": {},
   "outputs": [],
   "source": [
    "msg = open('msg.txt','r').read()\n"
   ]
  },
  {
   "cell_type": "code",
   "execution_count": 1,
   "id": "074c6cde-8838-4ff6-aa5b-a266e1275ad9",
   "metadata": {},
   "outputs": [],
   "source": [
    "a = {'destination': 'U8fc2cf34709adb71eead5cd0c6b817bd', 'events': [{'type': 'message', 'message': {'type': 'text', 'id': '496375511698898945', 'quoteToken': '24R1jGuXLaJ-e6MAUvgy727dYSH3iCgkXtkQw7lKNw1WnNn5olmlOaumayp8i82u_v92w5VtiejZSA7djy3l4lhCc5grnBCHVqFiuuZn6APYxBoz6wmen4uURTWNo-Dw2jf0GCitt430-ocL4w4w4A', 'text': '/香港有什麼好吃的?'}, 'webhookEventId': '01HQB1QN4RVXEYW39XQBVCV7DQ', 'deliveryContext': {'isRedelivery': False}, 'timestamp': 1708694164509, 'source': {'type': 'group', 'groupId': 'Cfe618dad7889d938554ea9b223d3d56c', 'userId': 'Uf823a8090fbc98490efacc7f93352aa7'}, 'replyToken': '872a62002ee843539e99ba4a1cbcb5b2', 'mode': 'active'}]}\n"
   ]
  },
  {
   "cell_type": "code",
   "execution_count": 2,
   "id": "0e02cf21-33bd-43c0-93cc-40165f38db3b",
   "metadata": {},
   "outputs": [
    {
     "data": {
      "text/plain": [
       "{'destination': 'U8fc2cf34709adb71eead5cd0c6b817bd',\n",
       " 'events': [{'type': 'message',\n",
       "   'message': {'type': 'text',\n",
       "    'id': '496375511698898945',\n",
       "    'quoteToken': '24R1jGuXLaJ-e6MAUvgy727dYSH3iCgkXtkQw7lKNw1WnNn5olmlOaumayp8i82u_v92w5VtiejZSA7djy3l4lhCc5grnBCHVqFiuuZn6APYxBoz6wmen4uURTWNo-Dw2jf0GCitt430-ocL4w4w4A',\n",
       "    'text': '/香港有什麼好吃的?'},\n",
       "   'webhookEventId': '01HQB1QN4RVXEYW39XQBVCV7DQ',\n",
       "   'deliveryContext': {'isRedelivery': False},\n",
       "   'timestamp': 1708694164509,\n",
       "   'source': {'type': 'group',\n",
       "    'groupId': 'Cfe618dad7889d938554ea9b223d3d56c',\n",
       "    'userId': 'Uf823a8090fbc98490efacc7f93352aa7'},\n",
       "   'replyToken': '872a62002ee843539e99ba4a1cbcb5b2',\n",
       "   'mode': 'active'}]}"
      ]
     },
     "execution_count": 2,
     "metadata": {},
     "output_type": "execute_result"
    }
   ],
   "source": [
    "a"
   ]
  },
  {
   "cell_type": "code",
   "execution_count": 6,
   "id": "1883129e-21d1-497c-a65c-c85d14345f32",
   "metadata": {},
   "outputs": [
    {
     "data": {
      "text/plain": [
       "'Cfe618dad7889d938554ea9b223d3d56c'"
      ]
     },
     "execution_count": 6,
     "metadata": {},
     "output_type": "execute_result"
    }
   ],
   "source": [
    "a[\"events\"][0]['source'].get('groupId')"
   ]
  },
  {
   "cell_type": "code",
   "execution_count": null,
   "id": "6646689b-6e3b-4c57-a52b-b72629877ead",
   "metadata": {},
   "outputs": [],
   "source": []
  }
 ],
 "metadata": {
  "kernelspec": {
   "display_name": "Python 3 (ipykernel)",
   "language": "python",
   "name": "python3"
  },
  "language_info": {
   "codemirror_mode": {
    "name": "ipython",
    "version": 3
   },
   "file_extension": ".py",
   "mimetype": "text/x-python",
   "name": "python",
   "nbconvert_exporter": "python",
   "pygments_lexer": "ipython3",
   "version": "3.10.12"
  }
 },
 "nbformat": 4,
 "nbformat_minor": 5
}
