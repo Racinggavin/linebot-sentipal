{
 "cells": [
  {
   "cell_type": "code",
   "execution_count": 4,
   "id": "9ae3edf9-be14-45f6-a8cf-c74b2a313a62",
   "metadata": {},
   "outputs": [
    {
     "data": {
      "text/plain": [
       "True"
      ]
     },
     "execution_count": 4,
     "metadata": {},
     "output_type": "execute_result"
    }
   ],
   "source": [
    "from linebot import LineBotApi, WebhookHandler\n",
    "from linebot.models import TextSendMessage   # 載入 TextSendMessage 模組\n",
    "import json\n",
    "from dotenv import load_dotenv\n",
    "import os \n",
    "\n",
    "\n",
    "load_dotenv()\n"
   ]
  },
  {
   "cell_type": "code",
   "execution_count": null,
   "id": "352de678-b1d0-412b-9814-9bc9a84e2183",
   "metadata": {},
   "outputs": [],
   "source": [
    "line_bot_api = LineBotApi(LINE_BOT_KEY)\n",
    "handler = WebhookHandler(LINE_SECRET_KEY)\n",
    "signature = request.headers['X-Line-Signature']\n",
    "handler.handle(body, signature)\n",
    "tk = json_data['events'][0]['replyToken']\n",
    "msg = json_data['events'][0]['message']['text'] + '.'"
   ]
  },
  {
   "cell_type": "code",
   "execution_count": 3,
   "id": "00be5e72-affb-42a1-8a7b-e0eb9ec0e067",
   "metadata": {},
   "outputs": [
    {
     "ename": "NameError",
     "evalue": "name 'msg' is not defined",
     "output_type": "error",
     "traceback": [
      "\u001b[0;31m---------------------------------------------------------------------------\u001b[0m",
      "\u001b[0;31mNameError\u001b[0m                                 Traceback (most recent call last)",
      "Cell \u001b[0;32mIn[3], line 1\u001b[0m\n\u001b[0;32m----> 1\u001b[0m ai_msg \u001b[38;5;241m=\u001b[39m \u001b[43mmsg\u001b[49m[:\u001b[38;5;241m1\u001b[39m]\n\u001b[1;32m      2\u001b[0m user \u001b[38;5;241m=\u001b[39m json_data[\u001b[38;5;124m\"\u001b[39m\u001b[38;5;124mevents\u001b[39m\u001b[38;5;124m\"\u001b[39m][\u001b[38;5;241m0\u001b[39m][\u001b[38;5;124m\"\u001b[39m\u001b[38;5;124msource\u001b[39m\u001b[38;5;124m\"\u001b[39m][\u001b[38;5;124m\"\u001b[39m\u001b[38;5;124muserId\u001b[39m\u001b[38;5;124m\"\u001b[39m]\n",
      "\u001b[0;31mNameError\u001b[0m: name 'msg' is not defined"
     ]
    }
   ],
   "source": [
    "ai_msg = msg[:1]\n",
    "user = json_data[\"events\"][0][\"source\"][\"userId\"]\n"
   ]
  },
  {
   "cell_type": "code",
   "execution_count": 17,
   "id": "5b4db7ea-26e6-40d2-9557-aa061ac770b8",
   "metadata": {},
   "outputs": [],
   "source": [
    "msg = open('msg.txt','r').read()\n"
   ]
  },
  {
   "cell_type": "code",
   "execution_count": 1,
   "id": "074c6cde-8838-4ff6-aa5b-a266e1275ad9",
   "metadata": {},
   "outputs": [],
   "source": [
    "a = {'destination': 'U8fc2cf34709adb71eead5cd0c6b817bd', 'events': [{'type': 'message', 'message': {'type': 'text', 'id': '496375511698898945', 'quoteToken': '24R1jGuXLaJ-e6MAUvgy727dYSH3iCgkXtkQw7lKNw1WnNn5olmlOaumayp8i82u_v92w5VtiejZSA7djy3l4lhCc5grnBCHVqFiuuZn6APYxBoz6wmen4uURTWNo-Dw2jf0GCitt430-ocL4w4w4A', 'text': '/香港有什麼好吃的?'}, 'webhookEventId': '01HQB1QN4RVXEYW39XQBVCV7DQ', 'deliveryContext': {'isRedelivery': False}, 'timestamp': 1708694164509, 'source': {'type': 'group', 'groupId': 'Cfe618dad7889d938554ea9b223d3d56c', 'userId': 'Uf823a8090fbc98490efacc7f93352aa7'}, 'replyToken': '872a62002ee843539e99ba4a1cbcb5b2', 'mode': 'active'}]}\n"
   ]
  },
  {
   "cell_type": "code",
   "execution_count": 2,
   "id": "0e02cf21-33bd-43c0-93cc-40165f38db3b",
   "metadata": {},
   "outputs": [
    {
     "data": {
      "text/plain": [
       "{'destination': 'U8fc2cf34709adb71eead5cd0c6b817bd',\n",
       " 'events': [{'type': 'message',\n",
       "   'message': {'type': 'text',\n",
       "    'id': '496375511698898945',\n",
       "    'quoteToken': '24R1jGuXLaJ-e6MAUvgy727dYSH3iCgkXtkQw7lKNw1WnNn5olmlOaumayp8i82u_v92w5VtiejZSA7djy3l4lhCc5grnBCHVqFiuuZn6APYxBoz6wmen4uURTWNo-Dw2jf0GCitt430-ocL4w4w4A',\n",
       "    'text': '/香港有什麼好吃的?'},\n",
       "   'webhookEventId': '01HQB1QN4RVXEYW39XQBVCV7DQ',\n",
       "   'deliveryContext': {'isRedelivery': False},\n",
       "   'timestamp': 1708694164509,\n",
       "   'source': {'type': 'group',\n",
       "    'groupId': 'Cfe618dad7889d938554ea9b223d3d56c',\n",
       "    'userId': 'Uf823a8090fbc98490efacc7f93352aa7'},\n",
       "   'replyToken': '872a62002ee843539e99ba4a1cbcb5b2',\n",
       "   'mode': 'active'}]}"
      ]
     },
     "execution_count": 2,
     "metadata": {},
     "output_type": "execute_result"
    }
   ],
   "source": [
    "a"
   ]
  },
  {
   "cell_type": "code",
   "execution_count": 6,
   "id": "1883129e-21d1-497c-a65c-c85d14345f32",
   "metadata": {},
   "outputs": [
    {
     "data": {
      "text/plain": [
       "'Cfe618dad7889d938554ea9b223d3d56c'"
      ]
     },
     "execution_count": 6,
     "metadata": {},
     "output_type": "execute_result"
    }
   ],
   "source": [
    "a[\"events\"][0]['source'].get('groupId')"
   ]
  },
  {
   "cell_type": "code",
   "execution_count": 33,
   "id": "6df5c7b3-0c83-47ba-9b3f-e7071a88ca62",
   "metadata": {},
   "outputs": [],
   "source": [
    "xx = {}\n",
    "a = xx['name'] if xx.get('name') != None else \"ho\""
   ]
  },
  {
   "cell_type": "code",
   "execution_count": 34,
   "id": "66aaa449-b331-47a6-8111-3b63e34365a1",
   "metadata": {},
   "outputs": [
    {
     "data": {
      "text/plain": [
       "'ho'"
      ]
     },
     "execution_count": 34,
     "metadata": {},
     "output_type": "execute_result"
    }
   ],
   "source": [
    "a"
   ]
  },
  {
   "cell_type": "code",
   "execution_count": 44,
   "id": "f3bd8c16-ae0c-4fb7-b914-f83030c67e53",
   "metadata": {},
   "outputs": [],
   "source": [
    "\n",
    "\n",
    "def xx(text):\n",
    "    a = text if text != None else ValueError(\"錯誤訊息\")\n",
    "    return a"
   ]
  },
  {
   "cell_type": "code",
   "execution_count": 45,
   "id": "fa92783c-0690-4a9f-af2d-11416e34220f",
   "metadata": {},
   "outputs": [
    {
     "data": {
      "text/plain": [
       "ValueError('錯誤訊息')"
      ]
     },
     "execution_count": 45,
     "metadata": {},
     "output_type": "execute_result"
    }
   ],
   "source": [
    "xx(None)"
   ]
  },
  {
   "cell_type": "code",
   "execution_count": null,
   "id": "3fd8c5d4-072f-4a98-b8e5-c7c60c107241",
   "metadata": {},
   "outputs": [],
   "source": [
    "__str__"
   ]
  },
  {
   "cell_type": "code",
   "execution_count": 228,
   "id": "920e60f8-e719-4cd7-9157-b4522eadf236",
   "metadata": {},
   "outputs": [],
   "source": [
    "import sqlite3\n",
    "class Mood:\n",
    "    def __init__(self, **kwargs):\n",
    "        self.user_id = kwargs.get(\"user_id\") if kwargs.get(\"user_id\") != None else f'{uuid.uuid4()}'\n",
    "        self.group_id = kwargs.get(\"group_id\") \n",
    "        self.user_text = kwargs.get(\"user_text\") \n",
    "        self.user_mood = kwargs.get(\"user_mood\") \n",
    "        self.mood_score = kwargs.get(\"mood_score\") \n",
    "        self.stable_score = kwargs.get(\"stable_score\") \n",
    "        self.engage = kwargs.get(\"engage\") \n",
    "        if any(value is None for value in [self.user_id, self.user_text, self.user_mood, self.mood_score, self.stable_score, self.engage]): \n",
    "            raise ValueError(\"請輸入完整的屬性\")\n",
    "            \n",
    "    def update(self, **kwargs):\n",
    "        self.group_id = kwargs.get(\"group_id\") \n",
    "        self.user_text = kwargs.get(\"user_text\") \n",
    "        self.user_mood = kwargs.get(\"user_mood\") \n",
    "        self.mood_score = kwargs.get(\"mood_score\") \n",
    "        self.stable_score = kwargs.get(\"stable_score\") \n",
    "        self.engage = kwargs.get(\"engage\")\n",
    "        if \"user_id\" in kwargs.keys():\n",
    "            raise ValueError(\"UPDATE 不用設定user_id\")\n",
    "            \n",
    "        \n",
    "        update_comm = list(kwargs.keys())\n",
    "        update_comm = \" = ?, \".join(str(x) for x in update_comm)\n",
    "        lst = list(kwargs.values())\n",
    "        lst.append(self.user_id)\n",
    "        conn = sqlite3.connect('src/db/database.db')\n",
    "        c = conn.cursor()\n",
    "        \n",
    "        \n",
    "        try:\n",
    "            print(f\"UPDATE mood SET {update_comm} = ? WHERE user_id = ?\")\n",
    "            c.execute(f\"UPDATE mood SET {update_comm} = ? WHERE user_id = ?\", tuple(lst))\n",
    "            conn.commit()\n",
    "            print(\"Command executed successfully\")\n",
    "        except Exception as e:\n",
    "            print(\"Update Failed\")\n",
    "            print(e)\n",
    "        conn.close()\n",
    "\n",
    "    def insert(self):\n",
    "        conn = sqlite3.connect('src/db/database.db')\n",
    "        c = conn.cursor()\n",
    "        try:\n",
    "            c.execute(f\"INSERT INTO mood (user_id, group_id, user_text, user_mood, mood_score, stable_score, engage) VALUES (?, ?, ?, ?, ?, ?, ?)\",\n",
    "                          (self.user_id, self.group_id, self.user_text, self.user_mood, self.mood_score, self.stable_score, self.engage))\n",
    "            conn.commit()\n",
    "            print(\"Command executed successfully\")\n",
    "        except Exception as e:\n",
    "            print(\"Insert Failed\")\n",
    "            print(e)\n",
    "        conn.close()\n",
    "    def fetch(self):\n",
    "        \n"
   ]
  },
  {
   "cell_type": "code",
   "execution_count": 232,
   "id": "09c7201d-d039-4868-b7e0-e6d3af5688ee",
   "metadata": {},
   "outputs": [],
   "source": [
    "user = Mood(user_id=name, user_text=\"hi\", user_mood=\"happy\", mood_score=1, stable_score=2, engage=1)"
   ]
  },
  {
   "cell_type": "code",
   "execution_count": 233,
   "id": "1a983a1d-0a9a-4712-99b6-1067cf790f7a",
   "metadata": {},
   "outputs": [
    {
     "name": "stdout",
     "output_type": "stream",
     "text": [
      "UPDATE mood SET user_mood = ? WHERE user_id = ?\n",
      "Command executed successfully\n"
     ]
    }
   ],
   "source": [
    "user.update(user_mood=\"bad\")"
   ]
  },
  {
   "cell_type": "code",
   "execution_count": null,
   "id": "5a3dfe5a-b45b-447a-8ff6-3fd63f31c2bf",
   "metadata": {},
   "outputs": [],
   "source": []
  },
  {
   "cell_type": "code",
   "execution_count": 204,
   "id": "79e9b999-8842-4431-9d76-0b04054d6c15",
   "metadata": {},
   "outputs": [],
   "source": [
    "a = {\"user_id\": 1, \"user_text\":2}"
   ]
  },
  {
   "cell_type": "code",
   "execution_count": 185,
   "id": "ff4b4ea5-6c0e-4954-8b2d-03248b98c76d",
   "metadata": {},
   "outputs": [
    {
     "data": {
      "text/plain": [
       "1"
      ]
     },
     "execution_count": 185,
     "metadata": {},
     "output_type": "execute_result"
    }
   ],
   "source": [
    "a.pop(\"user_id\")"
   ]
  },
  {
   "cell_type": "code",
   "execution_count": 205,
   "id": "ac6000e2-010a-4d06-b6b6-ce69fbaf44e6",
   "metadata": {},
   "outputs": [],
   "source": [
    "b = list(a.keys())\n",
    "f= \" = ?, \".join(str(x) for x in b)"
   ]
  },
  {
   "cell_type": "code",
   "execution_count": 210,
   "id": "fb9778a2-01be-4527-83a1-5ac13b7d309f",
   "metadata": {},
   "outputs": [],
   "source": [
    "c = list(a.values())\n",
    "c.append(\"user_id\")"
   ]
  },
  {
   "cell_type": "code",
   "execution_count": 196,
   "id": "46d5a92e-3629-42fe-965a-7aa2b247ce8a",
   "metadata": {},
   "outputs": [
    {
     "ename": "TypeError",
     "evalue": "'NoneType' object is not iterable",
     "output_type": "error",
     "traceback": [
      "\u001b[0;31m---------------------------------------------------------------------------\u001b[0m",
      "\u001b[0;31mTypeError\u001b[0m                                 Traceback (most recent call last)",
      "Cell \u001b[0;32mIn[196], line 1\u001b[0m\n\u001b[0;32m----> 1\u001b[0m \u001b[38;5;28;43mtuple\u001b[39;49m\u001b[43m(\u001b[49m\u001b[38;5;28;43mlist\u001b[39;49m\u001b[43m(\u001b[49m\u001b[43ma\u001b[49m\u001b[38;5;241;43m.\u001b[39;49m\u001b[43mvalues\u001b[49m\u001b[43m(\u001b[49m\u001b[43m)\u001b[49m\u001b[43m)\u001b[49m\u001b[38;5;241;43m.\u001b[39;49m\u001b[43mappend\u001b[49m\u001b[43m(\u001b[49m\u001b[38;5;124;43m\"\u001b[39;49m\u001b[38;5;124;43muser_id\u001b[39;49m\u001b[38;5;124;43m\"\u001b[39;49m\u001b[43m)\u001b[49m\u001b[43m)\u001b[49m\n",
      "\u001b[0;31mTypeError\u001b[0m: 'NoneType' object is not iterable"
     ]
    }
   ],
   "source": [
    "tuple(list(a.values()).append(\"user_id\"))"
   ]
  },
  {
   "cell_type": "code",
   "execution_count": 60,
   "id": "e8c42501-e4c1-46f1-bba6-35df0c3e967e",
   "metadata": {},
   "outputs": [
    {
     "data": {
      "text/plain": [
       "ValueError('user_mood is required')"
      ]
     },
     "execution_count": 60,
     "metadata": {},
     "output_type": "execute_result"
    }
   ],
   "source": [
    "user.user_mood"
   ]
  },
  {
   "cell_type": "code",
   "execution_count": 48,
   "id": "33381d6c-f85e-431c-96ce-bdc5b00d8868",
   "metadata": {},
   "outputs": [],
   "source": [
    "import uuid\n",
    "name = f'{uuid.uuid4()}'"
   ]
  },
  {
   "cell_type": "code",
   "execution_count": 221,
   "id": "d3d537fe-4a71-476b-b8e5-0622ab16dc8d",
   "metadata": {},
   "outputs": [
    {
     "data": {
      "text/plain": [
       "'0efef8f2-37be-4527-a3af-7c38526297e8'"
      ]
     },
     "execution_count": 221,
     "metadata": {},
     "output_type": "execute_result"
    }
   ],
   "source": [
    "name"
   ]
  },
  {
   "cell_type": "code",
   "execution_count": null,
   "id": "f971992d-c024-4ec7-8bcc-a00c93699219",
   "metadata": {},
   "outputs": [],
   "source": []
  }
 ],
 "metadata": {
  "kernelspec": {
   "display_name": "Python 3 (ipykernel)",
   "language": "python",
   "name": "python3"
  },
  "language_info": {
   "codemirror_mode": {
    "name": "ipython",
    "version": 3
   },
   "file_extension": ".py",
   "mimetype": "text/x-python",
   "name": "python",
   "nbconvert_exporter": "python",
   "pygments_lexer": "ipython3",
   "version": "3.10.12"
  }
 },
 "nbformat": 4,
 "nbformat_minor": 5
}
